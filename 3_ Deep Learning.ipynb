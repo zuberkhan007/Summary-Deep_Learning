{
 "cells": [
  {
   "cell_type": "markdown",
   "metadata": {},
   "source": [
    "# Computer Vision using OpenCV\n",
    "* BGR channels: ranges from 0 to 255\n",
    "* Grayscale: 1 channel, ranges from 0 to 255, 0 = Black, 255 = White\n",
    "* !pip install opencv-python"
   ]
  },
  {
   "cell_type": "markdown",
   "metadata": {},
   "source": [
    "# Load, Show, Save"
   ]
  },
  {
   "cell_type": "code",
   "execution_count": 1,
   "metadata": {},
   "outputs": [],
   "source": [
    "import cv2\n",
    "import numpy as np\n",
    "\n",
    "img_path = 'pic1.jpg'\n",
    "\n",
    "# Load image\n",
    "img = cv2.imread(img_path,1) # 1 --> Color, 0 --> Grayscale\n",
    "img_shape = img.shape\n",
    "\n",
    "# Show image\n",
    "cv2.imshow('image',img)\n",
    "cv2.waitKey(0)\n",
    "\n",
    "# Save image\n",
    "# cv2.imwrite('saved image', img)\n",
    "\n",
    "cv2.destroyAllWindows()"
   ]
  },
  {
   "cell_type": "markdown",
   "metadata": {},
   "source": [
    "# Grayscale, Resize, Crop, "
   ]
  },
  {
   "cell_type": "code",
   "execution_count": 11,
   "metadata": {},
   "outputs": [],
   "source": [
    "# Convert to Grayscale\n",
    "gray_img = cv2.cvtColor(img, cv2.COLOR_BGR2GRAY)\n",
    "cv2.imshow('image',gray_img)\n",
    "cv2.waitKey(0)\n",
    "\n",
    "# Resize image\n",
    "resize_shape = (224,224)\n",
    "\n",
    "resize_img_1 = cv2.resize(img, None,fx=0.5, fy=0.5)\n",
    "cv2.imshow('image',resize_img_1)\n",
    "cv2.waitKey(0)\n",
    "\n",
    "resize_img_2 = cv2.resize(img, resize_shape)\n",
    "cv2.imshow('image',resize_img_2)\n",
    "cv2.waitKey(0)\n",
    "\n",
    "# Crop image with indexing\n",
    "cropped_img = img[10:100,10:100]\n",
    "cv2.imshow('image',cropped_img)\n",
    "cv2.waitKey(0)\n",
    "\n",
    "cv2.destroyAllWindows()"
   ]
  },
  {
   "cell_type": "markdown",
   "metadata": {},
   "source": [
    "# Draw a Line, Circle, Rectangle"
   ]
  },
  {
   "cell_type": "code",
   "execution_count": 14,
   "metadata": {},
   "outputs": [],
   "source": [
    "# Create Black image\n",
    "black_img = np.zeros((224,224,3))\n",
    "cv2.imshow('image',black_img)\n",
    "cv2.waitKey(0)\n",
    "\n",
    "# Create rectangle\n",
    "rect = cv2.rectangle(black_img, (1,1),(100,100),(255,0,0),5)\n",
    "cv2.imshow('image',rect)\n",
    "cv2.waitKey(0)\n",
    "\n",
    "# Create line\n",
    "line = cv2.line(black_img, (1,1),(100,100),(255,0,0),5)\n",
    "cv2.imshow('image',line)\n",
    "cv2.waitKey(0)\n",
    "\n",
    "# Create circle\n",
    "circle = cv2.circle(black_img, (100,100), 10, (255,0,0),5)\n",
    "cv2.imshow('image',circle)\n",
    "cv2.waitKey(0)\n",
    "\n",
    "cv2.destroyAllWindows()"
   ]
  },
  {
   "cell_type": "markdown",
   "metadata": {},
   "source": [
    "# Rotate, Flip, Change perspective"
   ]
  },
  {
   "cell_type": "code",
   "execution_count": 24,
   "metadata": {},
   "outputs": [],
   "source": [
    "# Rotate image\n",
    "rotate_img_matrix = cv2.getRotationMatrix2D((img.shape[0], img.shape[1]) , 45,0.5)\n",
    "rotate_img = cv2.warpAffine(img, rotate_img_matrix, (img.shape[0], img.shape[1]))\n",
    "cv2.imshow('image',rotate_img)\n",
    "cv2.waitKey(0)\n",
    "\n",
    "# Flip image\n",
    "flip_img = cv2.flip(img,1)\n",
    "cv2.imshow('image',flip_img)\n",
    "cv2.waitKey(0)\n",
    "\n",
    "# Change perspective\n",
    "height = 100\n",
    "width = 100\n",
    "\n",
    "orig_img_coor = np.float32([[100,100], [200,100], [100,200], [200,200]])\n",
    "new_img_coor = np.float32([[0,0], [width,0], [0,height], [width,height]])\n",
    "perspective_img_matrix = cv2.getPerspectiveTransform(orig_img_coor, new_img_coor)\n",
    "perspective_img = cv2.warpPerspective(img, perspective_img_matrix, (width,height) )\n",
    "cv2.imshow('image',perspective_img)\n",
    "cv2.waitKey(0)\n",
    "\n",
    "cv2.destroyAllWindows()"
   ]
  },
  {
   "cell_type": "markdown",
   "metadata": {},
   "source": [
    "# Brightness and Darkness"
   ]
  },
  {
   "cell_type": "code",
   "execution_count": 20,
   "metadata": {
    "scrolled": true
   },
   "outputs": [],
   "source": [
    "intensity = 50\n",
    "intensity_matrix = np.ones(img.shape, dtype='uint8') * intensity\n",
    "\n",
    "bright_img = cv2.add(img,intensity_matrix)\n",
    "cv2.imshow('image',bright_img)\n",
    "cv2.waitKey(0)\n",
    "\n",
    "dark_img = cv2.subtract(img,intensity_matrix)\n",
    "cv2.imshow('image',dark_img)\n",
    "cv2.waitKey(0)\n",
    "\n",
    "cv2.destroyAllWindows()"
   ]
  },
  {
   "cell_type": "markdown",
   "metadata": {},
   "source": [
    "# Blur, Sharpening, Thresholding"
   ]
  },
  {
   "cell_type": "code",
   "execution_count": 52,
   "metadata": {},
   "outputs": [],
   "source": [
    "kernel_size_5X5 = np.ones((5,5)) / 25\n",
    "kernel_size_5X5_tuple = (5,5)\n",
    "\n",
    "# Gaussian blur\n",
    "blur_gaussian = cv2.GaussianBlur(img, kernel_size_5X5_tuple, 1)\n",
    "cv2.imshow('image',blur_gaussian)\n",
    "cv2.waitKey(0)\n",
    "\n",
    "# filter2D blur\n",
    "blur_filter2D = cv2.filter2D(img, -1, kernel_size_5X5)\n",
    "cv2.imshow('image',blur_filter2D)\n",
    "cv2.waitKey(0)\n",
    "\n",
    "# Sharpening kernel\n",
    "sharp_filter = np.array([[-1,-1,-1],[-1,10,-1],[-1,-1,-1]])\n",
    "# Sharp image\n",
    "sharp_img = cv2.filter2D(img,-1, sharp_filter)\n",
    "cv2.imshow('image', sharp_img)\n",
    "cv2.waitKey(0)\n",
    "\n",
    "# Check out cv2.THRESH_BINARY_INV, cv2.THRESH_TRUNC \n",
    "# Values below 100 set to 0 (black), Values above 100 set to 255 (white)\n",
    "ret, threshold_img = cv2.threshold(gray_img, 100, 255, cv2.THRESH_BINARY)\n",
    "cv2.imshow('image', threshold_img)\n",
    "cv2.waitKey(0)\n",
    "\n",
    "cv2.destroyAllWindows()"
   ]
  },
  {
   "cell_type": "markdown",
   "metadata": {},
   "source": [
    "# Morphological Transformations\n",
    "* Erosion: Background erodes\n",
    "* Dilation: Background dilates\n",
    "* Opening = Erosion >>> Dilation\n",
    "* Closing = Dilation >>> Erosion"
   ]
  },
  {
   "cell_type": "code",
   "execution_count": 59,
   "metadata": {},
   "outputs": [],
   "source": [
    "kernel_size_5X5 = np.ones((5,5)) / 25\n",
    "\n",
    "# Erosion\n",
    "erosion_img = cv2.erode(img, kernel_size_5X5)\n",
    "cv2.imshow('image', erosion_img)\n",
    "cv2.waitKey(0)\n",
    "\n",
    "# Dilation\n",
    "dilation_img = cv2.dilate(img,kernel_size_5X5)\n",
    "cv2.imshow('image', dilation_img)\n",
    "cv2.waitKey(0)\n",
    "\n",
    "# Opening operation for noise removal\n",
    "opening_operation = cv2.morphologyEx(img, cv2.MORPH_OPEN, kernel_size_5X5)\n",
    "cv2.imshow('image', opening_operation)\n",
    "cv2.waitKey(0)\n",
    "\n",
    "\n",
    "# Closing operation for noise removal\n",
    "closing_operation = cv2.morphologyEx(img, cv2.MORPH_CLOSE, kernel_size_5X5)\n",
    "cv2.imshow('image', closing_operation)\n",
    "cv2.waitKey(0)\n",
    "\n",
    "cv2.destroyAllWindows()"
   ]
  },
  {
   "cell_type": "markdown",
   "metadata": {},
   "source": [
    "# Edge Detection\n",
    "* Lapacian, Canny, Sobel"
   ]
  },
  {
   "cell_type": "code",
   "execution_count": 60,
   "metadata": {},
   "outputs": [],
   "source": [
    "# Canny Edge Detection\n",
    "canny_edge_img = cv2.Canny(img, 10,100)\n",
    "cv2.imshow('image', canny_edge_img)\n",
    "cv2.waitKey(0)\n",
    "\n",
    "# Laplacian Edge Detection\n",
    "laplacian_edge_img = cv2.Laplacian(img, cv2.CV_64F)\n",
    "cv2.imshow('image', laplacian_edge_img)\n",
    "cv2.waitKey(0)\n",
    "\n",
    "cv2.destroyAllWindows()"
   ]
  },
  {
   "cell_type": "markdown",
   "metadata": {},
   "source": [
    "# Blob Detection"
   ]
  },
  {
   "cell_type": "code",
   "execution_count": 6,
   "metadata": {},
   "outputs": [],
   "source": [
    "blob_detector_object = cv2.SimpleBlobDetector_create()\n",
    "keypoint_info = blob_detector_object.detect(img)\n",
    "blank_img = np.zeros((1,1))\n",
    "blob_detector = cv2.drawKeypoints(img,keypoint_info, np.array([]), \n",
    "                                  (255,0,0), cv2.DRAW_MATCHES_FLAGS_DRAW_RICH_KEYPOINTS)\n",
    "cv2.imshow('image', blob_detector)\n",
    "cv2.waitKey(0)\n",
    "cv2.destroyAllWindows()"
   ]
  },
  {
   "cell_type": "markdown",
   "metadata": {},
   "source": [
    "# Line Detection\n",
    "* Probabilistic Hough Lines"
   ]
  },
  {
   "cell_type": "code",
   "execution_count": 26,
   "metadata": {},
   "outputs": [],
   "source": [
    "# grayscale\n",
    "gray_img = cv2.cvtColor(img, cv2.COLOR_BGR2GRAY)\n",
    "cv2.imshow('image',gray_img)\n",
    "cv2.waitKey(0)\n",
    "\n",
    "# detect canny edges\n",
    "canny_edge_img = cv2.Canny(gray_img, 10,100)\n",
    "cv2.imshow('image', canny_edge_img)\n",
    "cv2.waitKey(0)\n",
    "\n",
    "# Probabilistic Hough Lines\n",
    "line_info = cv2.HoughLinesP(canny_edge_img, 1, np.pi/180, 250, 110, 10)\n",
    "\n",
    "while line_info is True:\n",
    "    for i in line_info:\n",
    "        for x1,y1,x2,y2 in i:\n",
    "            cv2.line(img, (x1,y1), (x2,y2), (255,0,0), 2)\n",
    "\n",
    "cv2.imshow('image', gray_img)\n",
    "cv2.waitKey(0)\n",
    "\n",
    "cv2.destroyAllWindows()"
   ]
  },
  {
   "cell_type": "markdown",
   "metadata": {},
   "source": [
    "# Contour Detection, Approximating contours and Convex Hull"
   ]
  },
  {
   "cell_type": "code",
   "execution_count": 37,
   "metadata": {},
   "outputs": [],
   "source": [
    "img_copy = img.copy()\n",
    "# grayscale\n",
    "gray_img = cv2.cvtColor(img, cv2.COLOR_BGR2GRAY)\n",
    "cv2.imshow('image',gray_img)\n",
    "cv2.waitKey(0)\n",
    "\n",
    "# detect canny edges\n",
    "canny_edge_img = cv2.Canny(gray_img, 10,100)\n",
    "cv2.imshow('image', canny_edge_img)\n",
    "cv2.waitKey(0)\n",
    "\n",
    "# Contour detection\n",
    "contours, hierarchy = cv2.findContours(canny_edge_img, cv2.RETR_EXTERNAL, cv2.CHAIN_APPROX_NONE)\n",
    "contour_img = cv2.drawContours(img_copy, contours,-1,(255,0,0), 4)\n",
    "cv2.imshow('image', contour_img)\n",
    "cv2.waitKey(0)\n",
    "\n",
    "# Bounding rectangle around each contour\n",
    "for i in contours:\n",
    "    x,y,w,h = cv2.boundingRect(i)\n",
    "    bounding_rect_img = cv2.rectangle(img_copy, (x,y),(x+w,y+h), (0,0,255),1)\n",
    "    cv2.imshow('image', bounding_rect_img)\n",
    "cv2.waitKey(0)\n",
    "\n",
    "# Contour Approximation through each detected contour\n",
    "for i in contours:\n",
    "    accuracy = 0.04 * cv2.arcLength(i, True)\n",
    "    approx = cv2.approxPolyDP(i, accuracy, True)\n",
    "    approx_contour_img = cv2.drawContours(img_copy, [approx],-1,(255,0,0), 4)\n",
    "    cv2.imshow('image', approx_contour_img)\n",
    "cv2.waitKey(0)\n",
    "\n",
    "# Convex Hull:\n",
    "\n",
    "# Sort the contours by area and remove the largest contour\n",
    "n = len(contours) - 1\n",
    "contours_sorted = sorted(contours, key=cv2.contourArea, reverse=False)[:n]\n",
    "\n",
    "# Convex Hull through each detected contour\n",
    "for i in contours:\n",
    "    hull = cv2.convexHull(i)\n",
    "    hull_contour_img = cv2.drawContours(img_copy, [hull], -1, (255,0,0), 2)\n",
    "    cv2.imshow('image', hull_contour_img)\n",
    "cv2.waitKey(0)\n",
    "\n",
    "# # Matching contour shapes: compare input image and target image\n",
    "\n",
    "# # contours, hierarchy = cv2.findContours(input_img, cv2.RETR_EXTERNAL, cv2.CHAIN_APPROX_NONE)\n",
    "# # In input image, First largest contour is the boundary of the entire image\n",
    "# second_largest_contour = contours[1]\n",
    "\n",
    "# # In target image\n",
    "# # contours, hierarchy = cv2.findContours(target_img, cv2.RETR_EXTERNAL, cv2.CHAIN_APPROX_NONE)\n",
    "\n",
    "\n",
    "# for i in contours:\n",
    "#     match = cv2.matchShapes(second_largest_contour, i, 1, 0)\n",
    "#     if match < 0.2: \n",
    "#         closest_contour = i\n",
    "#     else: \n",
    "#         closest_contour = [0]\n",
    "        \n",
    "# closest_contour_img = cv2.drawContours(img_copy, [closest_contour], -1, (255,0,0), 2)\n",
    "# cv2.imshow('image', closest_contour_img)\n",
    "# cv2.waitKey(0)\n",
    "\n",
    "cv2.destroyAllWindows()"
   ]
  },
  {
   "cell_type": "markdown",
   "metadata": {},
   "source": [
    "# Corner Detection\n",
    "* Harris Corners are detected"
   ]
  },
  {
   "cell_type": "code",
   "execution_count": 64,
   "metadata": {},
   "outputs": [],
   "source": [
    "# grayscale\n",
    "gray_img = cv2.cvtColor(img, cv2.COLOR_BGR2GRAY)\n",
    "cv2.imshow('image',gray_img)\n",
    "cv2.waitKey(0)\n",
    "\n",
    "img_copy = img.copy()\n",
    "gray_img_copy = gray_img.copy()\n",
    "\n",
    "harris_corner_info = cv2.cornerHarris(gray_img,3,3,0.05)\n",
    "\n",
    "# Dilate the corner points to enlage them\n",
    "kernel_size_5X5 = np.ones((5,5))/25\n",
    "harris_corner_info = cv2.dilate(harris_corner_info,kernel_size_5X5)\n",
    "\n",
    "img_copy[ harris_corner_info > 0.025 * harris_corner_info.max() ] = [255,0,0]\n",
    "cv2.imshow('image', img_copy)\n",
    "cv2.waitKey(0)\n",
    "\n",
    "cv2.destroyAllWindows()"
   ]
  },
  {
   "cell_type": "markdown",
   "metadata": {},
   "source": [
    "# Face and Eye Detection using HAAR Cascade"
   ]
  },
  {
   "cell_type": "code",
   "execution_count": 5,
   "metadata": {},
   "outputs": [],
   "source": [
    "# grayscale\n",
    "gray_img = cv2.cvtColor(img, cv2.COLOR_BGR2GRAY)\n",
    "cv2.imshow('image',gray_img)\n",
    "cv2.waitKey(0)\n",
    "\n",
    "img_copy = img.copy()\n",
    "gray_img_copy = gray_img.copy()\n",
    "\n",
    "# Load cascade classifier\n",
    "classify_face = cv2.CascadeClassifier('haarcascade_frontalface_default.xml')\n",
    "classify_eye = cv2.CascadeClassifier('haarcascade_eye.xml')\n",
    "\n",
    "def detect_face_and_eye(img_copy):\n",
    "    \n",
    "    # Region of interest of detected face\n",
    "    face_roi = classify_face.detectMultiScale(gray_img_copy, 1.3, 5)\n",
    "\n",
    "    if face_roi is False:\n",
    "        print('No face detected')\n",
    "\n",
    "    for fx,fy,fw,fh in face_roi:\n",
    "        face_detected = cv2.rectangle(img_copy, (fx,fy), (fx+fw,fy+fh), (0,0,255), 2)\n",
    "\n",
    "        gray_img_crop = gray_img_copy[fy:fy+fh, fx:fx+fw]\n",
    "        img_crop = img_copy[fy:fy+fh ,fx:fx+fw]\n",
    "\n",
    "        eye_roi = classify_eye.detectMultiScale(gray_img_crop)\n",
    "        for ex,ey,ew,eh in eye_roi:\n",
    "            eye_detected = cv2.rectangle(img_crop,(ex,ey), (ex+ew,ey+eh), (0,0,255), 2)\n",
    "            \n",
    "        img_crop = cv2.flip(img_crop,1)\n",
    "        return img_crop\n",
    "\n",
    "detect_face_and_eye(img_copy)\n",
    "\n",
    "cv2.imshow('image', face_detected)\n",
    "cv2.waitKey(0)\n",
    "\n",
    "cv2.imshow('image', eye_detected)\n",
    "cv2.waitKey(0)\n",
    "\n",
    "cv2.destroyAllWindows()"
   ]
  },
  {
   "cell_type": "markdown",
   "metadata": {},
   "source": [
    "# Live Face and Eye Detection"
   ]
  },
  {
   "cell_type": "code",
   "execution_count": 8,
   "metadata": {},
   "outputs": [],
   "source": [
    "cam = cv2.VideoCapture(0)\n",
    "while True:\n",
    "    ret, frame = cam.read()\n",
    "    cv2.imshow('video', detect_face_and_eye(frame))\n",
    "    \n",
    "    # Press q to Quit window\n",
    "    if cv2.waitKey(1) & 0xFF == ord('q'):\n",
    "        break\n",
    "        \n",
    "cam.release()\n",
    "cv2.destroyAllWindows()"
   ]
  },
  {
   "cell_type": "markdown",
   "metadata": {},
   "source": [
    "# Video Analysis using OpenCV"
   ]
  },
  {
   "cell_type": "code",
   "execution_count": null,
   "metadata": {},
   "outputs": [],
   "source": [
    "# classify_pedestrian = cv2.CascadeClassifier('haarcascade_fullbody.xml')\n",
    "# cam = cv2.VideoCapture('video1.mp4')\n",
    "\n",
    "# # Loop through video\n",
    "# while cam.isOpened():\n",
    "#     ret, frame = cam.read()\n",
    "#     frame = cv2.resize(frame, None, fx=0.5, fy=0.5, interpolation = cv2.INTER_LINEAR)\n",
    "#     gray_img = cv2.cvtColor(frame, cv2.COLOR_BGR2GRAY)\n",
    "#     pedestrian_roi = classify_pedestrian.detectMultiScale(gray_img, 1.3, 5)\n",
    "    \n",
    "#     for x,y,w,h in pedestrian_detected:\n",
    "#         pedestrian_detected = cv2.rectangle(frame, (x,y), (x+w,y+h), (255,0,0), 2)\n",
    "#         cv2.imshow('video', pedestrian_detected)\n",
    "    \n",
    "#     if cv2.waitKey(1) & 0xFF == ord('q'):\n",
    "#         break\n",
    "\n",
    "# cam.release()\n",
    "# cv2.destroyAllWindows()"
   ]
  },
  {
   "cell_type": "markdown",
   "metadata": {},
   "source": [
    "# Deep Learning\n",
    "\n",
    "* A tensor is a N dimensional array of data\n",
    "* Rank 0 = scalar, Rank 1 = vector, Rank 2 = matrix "
   ]
  },
  {
   "cell_type": "markdown",
   "metadata": {},
   "source": [
    "# GPU Support"
   ]
  },
  {
   "cell_type": "code",
   "execution_count": 92,
   "metadata": {},
   "outputs": [
    {
     "name": "stdout",
     "output_type": "stream",
     "text": [
      "Tensorflow version is:  2.4.1\n",
      "Number of GPUs available:  0\n",
      "List of physical devices:  [PhysicalDevice(name='/physical_device:CPU:0', device_type='CPU')]\n",
      "Built with CUDA:  True\n"
     ]
    }
   ],
   "source": [
    "import tensorflow as tf\n",
    "print('Tensorflow version is: ', tf.__version__)\n",
    "print('Number of GPUs available: ',len(tf.config.experimental.list_physical_devices('GPU')) )\n",
    "print('List of physical devices: ', tf.config.experimental.list_physical_devices())\n",
    "print('Built with CUDA: ', tf.test.is_built_with_cuda())\n",
    "\n",
    "# using GPU on code:\n",
    "# with tf.device('/GPU:0'):\n",
    "    #insert model building code here"
   ]
  },
  {
   "cell_type": "markdown",
   "metadata": {},
   "source": [
    "# Computer Vision using Deep Learning"
   ]
  },
  {
   "cell_type": "markdown",
   "metadata": {},
   "source": [
    "# ANN (Artificial Neural Network)\n",
    "\n",
    "* Activation function:\n",
    "    * sigmoid has value between 0 and 1, 0 = neuron not firing, 1 = neuron firing \n",
    "    * tanh has value between -1 and 1\n",
    "    * relu is used for hidden layers and sigmoid is used at output layer\n",
    "    * relu helps make the model non-linear\n",
    "    * drawback is vanishing gradients"
   ]
  },
  {
   "cell_type": "code",
   "execution_count": 12,
   "metadata": {},
   "outputs": [],
   "source": [
    "# import libraries\n",
    "\n",
    "import numpy as np\n",
    "import matplotlib.pyplot as plt\n",
    "\n",
    "import tensorflow as tf\n",
    "from tensorflow import keras\n",
    "from imblearn.over_sampling import SMOTE"
   ]
  },
  {
   "cell_type": "code",
   "execution_count": 13,
   "metadata": {},
   "outputs": [
    {
     "data": {
      "text/plain": [
       "5"
      ]
     },
     "execution_count": 13,
     "metadata": {},
     "output_type": "execute_result"
    },
    {
     "data": {
      "image/png": "[encoded data removed]",
      "text/plain": [
       "<Figure size 288x288 with 1 Axes>"
      ]
     },
     "metadata": {
      "needs_background": "light"
     },
     "output_type": "display_data"
    }
   ],
   "source": [
    "# Handling highly imbalanced data\n",
    "    # Method: oversampling minority class using SMOTE (Synthetic Minority Oversampling Technique)\n",
    "        # smote = SMOTE(sampling_strategy='minority')\n",
    "        # x_sm, y_sm = smote.fit_sample(x, y)\n",
    "        # from sklearn.model_selection import train_test_split\n",
    "        # x_train, x_test, y_train, y_test = train_test_split(x_sm, y_sm, test_size=0.2, random_state=15, stratify=y_sm)\n",
    "\n",
    "# import data\n",
    "(x_train, y_train) , (x_test, y_test) = keras.datasets.mnist.load_data()\n",
    "\n",
    "# normalize data for better accuracy of neural network\n",
    "x_train = x_train / 255\n",
    "x_test = x_test / 255\n",
    "\n",
    "# visualize data\n",
    "plt.matshow(x_train[0])\n",
    "y_train[0]"
   ]
  },
  {
   "cell_type": "markdown",
   "metadata": {},
   "source": [
    "# Sequential API"
   ]
  },
  {
   "cell_type": "code",
   "execution_count": 42,
   "metadata": {},
   "outputs": [
    {
     "name": "stdout",
     "output_type": "stream",
     "text": [
      "1875/1875 [==============================] - 4s 2ms/step - loss: 0.5148 - accuracy: 0.8470\n",
      "313/313 [==============================] - 0s 970us/step - loss: 0.1487 - accuracy: 0.9568\n"
     ]
    },
    {
     "data": {
      "text/plain": [
       "[0.14873278141021729, 0.9567999839782715]"
      ]
     },
     "execution_count": 42,
     "metadata": {},
     "output_type": "execute_result"
    }
   ],
   "source": [
    "# make a neural network \n",
    "# flatten input into 1D array\n",
    "# 28X28 node layer flattened and passed on to a 100 node layer ending at a 10 node layer (having digits 0 to 9 as probabilities) \n",
    "# Dropout regularization helps stop overfitting of model by dropping neurons randomly \n",
    "# compile, fit and evaluate\n",
    "\n",
    "model_sequential = keras.Sequential([\n",
    "    keras.layers.Input(shape=(28,28)),\n",
    "    keras.layers.Flatten(),\n",
    "    keras.layers.Dense(100, activation='relu'),\n",
    "    keras.layers.Dropout(0.2),\n",
    "    keras.layers.Flatten(),\n",
    "    keras.layers.Dense(10, activation='sigmoid')\n",
    "])\n",
    "\n",
    "model_sequential.compile(optimizer='adam',\n",
    "              loss='sparse_categorical_crossentropy',\n",
    "              metrics=['accuracy'])\n",
    "\n",
    "tb_callback = tf.keras.callbacks.TensorBoard(log_dir=\"logs/\", histogram_freq=1)\n",
    "\n",
    "model_sequential.fit(x_train, y_train, epochs=1, callbacks=[tb_callback])\n",
    "\n",
    "model_sequential.evaluate(x_test, y_test)"
   ]
  },
  {
   "cell_type": "markdown",
   "metadata": {},
   "source": [
    "# Functional API"
   ]
  },
  {
   "cell_type": "code",
   "execution_count": 43,
   "metadata": {},
   "outputs": [
    {
     "name": "stdout",
     "output_type": "stream",
     "text": [
      "1875/1875 [==============================] - 10s 5ms/step - loss: 0.3678 - accuracy: 0.8919\n",
      "313/313 [==============================] - 0s 1ms/step - loss: 0.1077 - accuracy: 0.9670\n"
     ]
    },
    {
     "data": {
      "text/plain": [
       "[0.10774016380310059, 0.9670000076293945]"
      ]
     },
     "execution_count": 43,
     "metadata": {},
     "output_type": "execute_result"
    }
   ],
   "source": [
    "\n",
    "inputs = keras.layers.Input(shape=(28,28))\n",
    "x = keras.layers.Flatten()(inputs)\n",
    "x = keras.layers.Dense(512, activation=\"relu\")(x)\n",
    "x = keras.layers.Dropout(0.2)(x)\n",
    "x = keras.layers.Flatten()(x)\n",
    "outputs = keras.layers.Dense(10, activation=\"sigmoid\")(x)\n",
    "\n",
    "model_functional = keras.Model(inputs=inputs, outputs=outputs)\n",
    "\n",
    "model_functional.compile(optimizer='adam',\n",
    "              loss='sparse_categorical_crossentropy',\n",
    "              metrics=['accuracy'])\n",
    "\n",
    "tb_callback = tf.keras.callbacks.TensorBoard(log_dir=\"logs/\", histogram_freq=1)\n",
    "\n",
    "model_functional.fit(x_train, y_train, epochs=1, callbacks=[tb_callback])\n",
    "\n",
    "model_functional.evaluate(x_test, y_test)"
   ]
  },
  {
   "cell_type": "code",
   "execution_count": 63,
   "metadata": {},
   "outputs": [],
   "source": [
    "# Load tensorboard\n",
    "\n",
    "# %load_ext tensorboard\n",
    "# %tensorboard --logdir logs/fit"
   ]
  },
  {
   "cell_type": "code",
   "execution_count": 46,
   "metadata": {},
   "outputs": [
    {
     "data": {
      "text/plain": [
       "7"
      ]
     },
     "execution_count": 46,
     "metadata": {},
     "output_type": "execute_result"
    },
    {
     "data": {
      "image/png": "[encoded data removed]",
      "text/plain": [
       "<Figure size 288x288 with 1 Axes>"
      ]
     },
     "metadata": {
      "needs_background": "light"
     },
     "output_type": "display_data"
    }
   ],
   "source": [
    "# store predictions\n",
    "# digits 0 to 9 are as probabilities, argmax is used to give index of max probability of an array\n",
    "y_predict = model_functional.predict(x_test)\n",
    "\n",
    "y_predict_labels = [np.argmax(i) for i in y_predict]\n",
    "\n",
    "plt.matshow(x_test[0])\n",
    "y_predict_labels[0]"
   ]
  },
  {
   "cell_type": "code",
   "execution_count": 47,
   "metadata": {},
   "outputs": [
    {
     "data": {
      "text/plain": [
       "<tf.Tensor: shape=(10, 10), dtype=int32, numpy=\n",
       "array([[ 966,    0,    0,    1,    2,    3,    2,    1,    3,    2],\n",
       "       [   0, 1118,    3,    1,    0,    1,    5,    1,    6,    0],\n",
       "       [   6,    0,  986,    8,    7,    1,    2,    8,   13,    1],\n",
       "       [   0,    0,    6,  978,    0,    4,    0,    5,    7,   10],\n",
       "       [   0,    0,    2,    0,  974,    0,    2,    0,    0,    4],\n",
       "       [   3,    0,    0,    8,    3,  858,    7,    1,    5,    7],\n",
       "       [   6,    3,    1,    1,    9,    7,  929,    0,    2,    0],\n",
       "       [   1,    4,   10,    1,    5,    0,    0,  975,    3,   29],\n",
       "       [   4,    0,    1,    6,   10,    5,    6,    5,  930,    7],\n",
       "       [   3,    4,    0,    6,   28,    4,    0,    3,    5,  956]])>"
      ]
     },
     "execution_count": 47,
     "metadata": {},
     "output_type": "execute_result"
    }
   ],
   "source": [
    "# confusuion matrix\n",
    "\n",
    "cm = tf.math.confusion_matrix(labels=y_test,predictions=y_predict_labels)\n",
    "cm"
   ]
  },
  {
   "cell_type": "code",
   "execution_count": 49,
   "metadata": {},
   "outputs": [
    {
     "name": "stdout",
     "output_type": "stream",
     "text": [
      "              precision    recall  f1-score   support\n",
      "\n",
      "           0       0.98      0.99      0.98       980\n",
      "           1       0.99      0.99      0.99      1135\n",
      "           2       0.98      0.96      0.97      1032\n",
      "           3       0.97      0.97      0.97      1010\n",
      "           4       0.94      0.99      0.96       982\n",
      "           5       0.97      0.96      0.97       892\n",
      "           6       0.97      0.97      0.97       958\n",
      "           7       0.98      0.95      0.96      1028\n",
      "           8       0.95      0.95      0.95       974\n",
      "           9       0.94      0.95      0.94      1009\n",
      "\n",
      "    accuracy                           0.97     10000\n",
      "   macro avg       0.97      0.97      0.97     10000\n",
      "weighted avg       0.97      0.97      0.97     10000\n",
      "\n",
      "Model: \"model_7\"\n",
      "_________________________________________________________________\n",
      "Layer (type)                 Output Shape              Param #   \n",
      "=================================================================\n",
      "input_11 (InputLayer)        [(None, 28, 28)]          0         \n",
      "_________________________________________________________________\n",
      "flatten_30 (Flatten)         (None, 784)               0         \n",
      "_________________________________________________________________\n",
      "dense_29 (Dense)             (None, 512)               401920    \n",
      "_________________________________________________________________\n",
      "dropout_14 (Dropout)         (None, 512)               0         \n",
      "_________________________________________________________________\n",
      "flatten_31 (Flatten)         (None, 512)               0         \n",
      "_________________________________________________________________\n",
      "dense_30 (Dense)             (None, 10)                5130      \n",
      "=================================================================\n",
      "Total params: 407,050\n",
      "Trainable params: 407,050\n",
      "Non-trainable params: 0\n",
      "_________________________________________________________________\n"
     ]
    }
   ],
   "source": [
    "# f1 score\n",
    "\n",
    "from sklearn.metrics import confusion_matrix , classification_report\n",
    "print(classification_report(y_test, y_predict_labels))\n",
    "\n",
    "# Layers of the model\n",
    "model_functional.summary()"
   ]
  },
  {
   "cell_type": "markdown",
   "metadata": {},
   "source": [
    "# Image Preprocessing"
   ]
  },
  {
   "cell_type": "code",
   "execution_count": 17,
   "metadata": {},
   "outputs": [],
   "source": [
    "# image prepocessing using cv2\n",
    "import cv2\n",
    "import numpy as np\n",
    "\n",
    "img_path = 'pic1.jpg'\n",
    "resize_shape = (224, 224)\n",
    "img = cv2.imread(img_path)\n",
    "\n",
    "# Resize\n",
    "resized_img = cv2.resize(img, resize_shape)\n",
    "cv2.imshow('image',resized_img)\n",
    "cv2.waitKey(0)\n",
    "\n",
    "# Grayscale\n",
    "gray_img = cv2.cvtColor(resized_img, cv2.COLOR_BGR2GRAY)\n",
    "cv2.imshow('image',gray_img)\n",
    "cv2.waitKey(0)\n",
    "\n",
    "# Normalize\n",
    "resized_img = np.array(resized_img)/255\n",
    "\n",
    "# Add an index \n",
    "# img.shape is (1,224,224,3) 1 is the index for better identification of the image\n",
    "resized_img = resized_img[np.newaxis]\n",
    "\n",
    "cv2.imshow('image',np.squeeze(resized_img))\n",
    "cv2.waitKey(0)\n",
    "\n",
    "cv2.destroyAllWindows()"
   ]
  },
  {
   "cell_type": "markdown",
   "metadata": {},
   "source": [
    "# CNN (Convolutional Neural Network)"
   ]
  },
  {
   "cell_type": "markdown",
   "metadata": {},
   "source": [
    "* Feature Extraction: Convolution + ReLU --> Pooling layer --> Flatten to 1D Array\n",
    "* CNN Process: Feature extraction --> Classification(ANN)\n",
    "* Convolution is multiplication of dataset matrix and filter matrix\n",
    "* relu helps make the model non-linear\n",
    "* Pooling layer is used to reduce size of matrix \n",
    "    * 2X2 filter finds maximum out of the 4 elements with stride = 1 \n",
    "* Used mainly for image classification \n",
    "* CNN doesn't take care of rotation and scale hence data augmentation is used\n"
   ]
  },
  {
   "cell_type": "code",
   "execution_count": 52,
   "metadata": {},
   "outputs": [],
   "source": [
    "# import libraries\n",
    "\n",
    "import numpy as np\n",
    "import matplotlib.pyplot as plt\n",
    "\n",
    "import tensorflow as tf\n",
    "from tensorflow import keras"
   ]
  },
  {
   "cell_type": "code",
   "execution_count": 54,
   "metadata": {},
   "outputs": [
    {
     "data": {
      "text/plain": [
       "'frog'"
      ]
     },
     "execution_count": 54,
     "metadata": {},
     "output_type": "execute_result"
    },
    {
     "data": {
      "image/png": "[encoded data removed]",
      "text/plain": [
       "<Figure size 432x288 with 1 Axes>"
      ]
     },
     "metadata": {
      "needs_background": "light"
     },
     "output_type": "display_data"
    }
   ],
   "source": [
    "# import data\n",
    "(x_train, y_train) , (x_test, y_test) = keras.datasets.cifar10.load_data()\n",
    "\n",
    "# normalize data for better accuracy of neural network\n",
    "x_train = x_train / 255\n",
    "x_test = x_test / 255\n",
    "\n",
    "# flatten y_train and y_test \n",
    "y_train = y_train.flatten()\n",
    "y_test = y_test.flatten()\n",
    "\n",
    "# visualize data\n",
    "classes = [\"airplane\",\"automobile\",\"bird\",\"cat\",\"deer\",\"dog\",\"frog\",\"horse\",\"ship\",\"truck\"]\n",
    "plt.imshow(x_train[0])\n",
    "classes[y_train[0]]"
   ]
  },
  {
   "cell_type": "code",
   "execution_count": 64,
   "metadata": {},
   "outputs": [],
   "source": [
    "# Data Augmentation: Helps alter image dataset by flip, rotation, zoom to improve model accuracy\n",
    "\n",
    "img_height = 32\n",
    "img_width = 32\n",
    "\n",
    "data_augmentation = keras.Sequential([\n",
    "    keras.layers.Input(shape=(img_height, img_width, 3)),\n",
    "    keras.layers.experimental.preprocessing.RandomFlip(\"horizontal\"),\n",
    "    keras.layers.experimental.preprocessing.RandomRotation(0.1),\n",
    "    keras.layers.experimental.preprocessing.RandomZoom(0.1)\n",
    "])"
   ]
  },
  {
   "cell_type": "code",
   "execution_count": 57,
   "metadata": {},
   "outputs": [
    {
     "name": "stdout",
     "output_type": "stream",
     "text": [
      "1563/1563 [==============================] - 104s 58ms/step - loss: 1.7760 - accuracy: 0.3777\n",
      "313/313 [==============================] - 5s 10ms/step - loss: 1.3557 - accuracy: 0.5290\n"
     ]
    },
    {
     "data": {
      "text/plain": [
       "[1.3557493686676025, 0.5289999842643738]"
      ]
     },
     "execution_count": 57,
     "metadata": {},
     "output_type": "execute_result"
    }
   ],
   "source": [
    "# Convolution+relu --> MaxPooling --> Convolution+relu --> MaxPooling --> Flatten to 1D array --> Classification\n",
    "# Convolution+relu: \n",
    "    # 32 filters of size 3X3 matrix convolute with input matrix of size 32 X 32 X 3 (3 is for BGR Channel)\n",
    "    # Give inside Conv2D:\n",
    "    # padding = 'same'\n",
    "        # creates a boundary of 1 extra row and 1 extra column around the image (optional)\n",
    "    # strides = (1,1)\n",
    "        # It is how many cells does the filter move while convoluting around the input matrix (optional)\n",
    "# Batch normalization: Automatically standardizes the inputs,  accelerates the training process\n",
    "# MaxPooling: 2X2 matrix with stride = 1 finds max out of 4 elements and reduces matrix size \n",
    "# Dropout regularization helps stop overfitting of model by dropping neurons randomly \n",
    "# softmax activation function is popular in CNN for giving a probabilistic array output\n",
    "\n",
    "# compile, fit, evaluate\n",
    "\n",
    "cnn = keras.Sequential([\n",
    "    \n",
    "    data_augmentation,\n",
    "    keras.layers.Input(shape= (32,32,3)),\n",
    "    \n",
    "    keras.layers.Conv2D(filters=32, kernel_size=(3, 3), activation='relu'),\n",
    "    keras.layers.BatchNormalization(),\n",
    "    keras.layers.MaxPooling2D((2, 2)),\n",
    "    \n",
    "    keras.layers.Conv2D(filters=64, kernel_size=(3, 3), activation='relu'),\n",
    "    keras.layers.BatchNormalization(),\n",
    "    keras.layers.MaxPooling2D((2, 2)),\n",
    "    \n",
    "    keras.layers.Dropout(0.2),\n",
    "    \n",
    "    keras.layers.Flatten(),\n",
    "    keras.layers.Dense(64, activation='relu'),\n",
    "    keras.layers.Dense(10, activation='softmax')\n",
    "])\n",
    "\n",
    "cnn.compile(optimizer='adam',\n",
    "              loss='sparse_categorical_crossentropy',\n",
    "              metrics=['accuracy'])\n",
    "\n",
    "cnn.fit(x_train, y_train, epochs=1)\n",
    "\n",
    "cnn.evaluate(x_test, y_test)"
   ]
  },
  {
   "cell_type": "code",
   "execution_count": 58,
   "metadata": {},
   "outputs": [
    {
     "data": {
      "text/plain": [
       "'cat'"
      ]
     },
     "execution_count": 58,
     "metadata": {},
     "output_type": "execute_result"
    },
    {
     "data": {
      "image/png": "[encoded data removed]",
      "text/plain": [
       "<Figure size 432x288 with 1 Axes>"
      ]
     },
     "metadata": {
      "needs_background": "light"
     },
     "output_type": "display_data"
    }
   ],
   "source": [
    "# store predictions\n",
    "# image classes are stored as probabilities, argmax is used to give index of max probability of an array\n",
    "y_predict = cnn.predict(x_test)\n",
    "\n",
    "y_predict_labels = [np.argmax(i) for i in y_predict]\n",
    "\n",
    "plt.imshow(x_test[0])\n",
    "classes[y_predict_labels[0]]"
   ]
  },
  {
   "cell_type": "markdown",
   "metadata": {},
   "source": [
    "# Save, Load or Delete Deep Learning Model"
   ]
  },
  {
   "cell_type": "code",
   "execution_count": 35,
   "metadata": {},
   "outputs": [],
   "source": [
    "# model.save('tfmodel')\n",
    "# model = load_model('tfmodel')\n",
    "# del model"
   ]
  },
  {
   "cell_type": "markdown",
   "metadata": {},
   "source": [
    "# Transfer Learning\n",
    "* Inputs to a model are called feature vectors (binary)\n",
    "* Outputs of a model are binary corresponding to classes which contain the classification or regressor value\n",
    "* 3 Methods of implementation: \n",
    "    * Sequential API Pretrained Model from a tensorflow hub link    \n",
    "    * Functional API Pretrained Model "
   ]
  },
  {
   "cell_type": "markdown",
   "metadata": {},
   "source": [
    "# Sequential API Pretrained Model from a tensorflow hub link"
   ]
  },
  {
   "cell_type": "code",
   "execution_count": 1,
   "metadata": {},
   "outputs": [],
   "source": [
    "# image prepocessing using cv2\n",
    "import cv2\n",
    "import numpy as np\n",
    "\n",
    "img_path = 'pic1.jpg'\n",
    "resize_shape = (224, 224)\n",
    "img = cv2.imread(img_path)\n",
    "resized_img = cv2.resize(img, resize_shape)\n",
    "resized_img = np.array(resized_img)/255\n",
    "\n",
    "# Add an index \n",
    "# img.shape is (1,224,224,3) 1 is the index for better identification of the image\n",
    "resized_img = resized_img[np.newaxis]\n",
    "\n",
    "cv2.imshow('image',np.squeeze(resized_img))\n",
    "cv2.waitKey(0)\n",
    "\n",
    "cv2.destroyAllWindows()"
   ]
  },
  {
   "cell_type": "code",
   "execution_count": 2,
   "metadata": {},
   "outputs": [],
   "source": [
    "# import libraries\n",
    "\n",
    "import numpy as np\n",
    "import matplotlib.pylab as plt\n",
    "import cv2\n",
    "import os\n",
    "import tensorflow as tf\n",
    "from tensorflow import keras\n",
    "import tensorflow_hub as hub\n",
    "\n",
    "# Pre-trained model from Tensorflow Hub\n",
    "classifier = keras.Sequential([\n",
    "    keras.layers.Input(shape=resize_shape+(3,)),\n",
    "    hub.KerasLayer(\"https://tfhub.dev/google/tf2-preview/mobilenet_v2/classification/4\")\n",
    "])"
   ]
  },
  {
   "cell_type": "code",
   "execution_count": 3,
   "metadata": {},
   "outputs": [
    {
     "data": {
      "text/plain": [
       "array([0])"
      ]
     },
     "execution_count": 3,
     "metadata": {},
     "output_type": "execute_result"
    }
   ],
   "source": [
    "# Predict image using pretrained model\n",
    "result = classifier.predict(resized_img)\n",
    "predicted_label_index = np.argmax(result)\n",
    "keras.utils.get_file('ImageNetLabels.txt','https://storage.googleapis.com/download.tensorflow.org/data/ImageNetLabels.txt')\n",
    "\n",
    "image_labels = []\n",
    "with open(\"ImageNetLabels.txt\", \"r\") as f:\n",
    "    image_labels = f.read().splitlines()\n",
    "\n",
    "output = image_labels[predicted_label_index]\n",
    "\n",
    "x_train = resized_img\n",
    "# y_train = tf.constant([0])\n",
    "y = { \n",
    "    'faces': 0,\n",
    "    'eyes':  1\n",
    "    }\n",
    "y_list = []\n",
    "y_list.append(y['faces'])\n",
    "y_train = np.array(y_list)\n",
    "y_train"
   ]
  },
  {
   "cell_type": "code",
   "execution_count": 10,
   "metadata": {
    "scrolled": true
   },
   "outputs": [
    {
     "name": "stdout",
     "output_type": "stream",
     "text": [
      "1/1 [==============================] - 4s 4s/step - loss: 2.3842e-07 - accuracy: 1.0000\n",
      "Model: \"sequential_8\"\n",
      "_________________________________________________________________\n",
      "Layer (type)                 Output Shape              Param #   \n",
      "=================================================================\n",
      "sequential_7 (Sequential)    (None, 1280)              2257984   \n",
      "_________________________________________________________________\n",
      "dense_3 (Dense)              (None, 2)                 2562      \n",
      "=================================================================\n",
      "Total params: 2,260,546\n",
      "Trainable params: 2,562\n",
      "Non-trainable params: 2,257,984\n",
      "_________________________________________________________________\n"
     ]
    }
   ],
   "source": [
    "# Train your own model\n",
    "feature_extractor_model = \"https://tfhub.dev/google/tf2-preview/mobilenet_v2/feature_vector/4\"\n",
    "\n",
    "pretrained_model_without_top_layer = keras.Sequential([\n",
    "    keras.layers.Input(shape=resize_shape+(3,)),\n",
    "    hub.KerasLayer(feature_extractor_model, trainable=False)\n",
    "\n",
    "])\n",
    "\n",
    "model_tf_hub = keras.Sequential([\n",
    "  pretrained_model_without_top_layer,\n",
    "  keras.layers.Dense(2)\n",
    "])\n",
    "\n",
    "model_tf_hub.compile(optimizer='adam',\n",
    "              loss='sparse_categorical_crossentropy',\n",
    "              metrics=['accuracy'])\n",
    "\n",
    "model_tf_hub.fit(x_train, y_train, epochs=1)\n",
    "\n",
    "model_tf_hub.summary()"
   ]
  },
  {
   "cell_type": "code",
   "execution_count": 12,
   "metadata": {},
   "outputs": [
    {
     "data": {
      "text/plain": [
       "0"
      ]
     },
     "execution_count": 12,
     "metadata": {},
     "output_type": "execute_result"
    }
   ],
   "source": [
    "# Predict input using newly trained model\n",
    "newly_trained_result = model_tf_hub.predict(resized_img)\n",
    "\n",
    "predicted_label_index = np.argmax(newly_trained_result)\n",
    "predicted_label_index\n",
    "# 0 is for 'faces' in the dictionary"
   ]
  },
  {
   "cell_type": "markdown",
   "metadata": {},
   "source": [
    "# Functional API Pretrained Model "
   ]
  },
  {
   "cell_type": "code",
   "execution_count": null,
   "metadata": {},
   "outputs": [],
   "source": [
    "# import tensorflow as tf\n",
    "# from tensorflow import keras\n",
    "# from tensorflow.keras import layers\n",
    "# from tensorflow.keras.datasets import mnist\n",
    "# import tensorflow_hub as hub\n",
    "\n",
    "# # ================================================ #\n",
    "# #                  Pretrained-Model                #\n",
    "# # ================================================ #\n",
    "\n",
    "# (x_train, y_train), (x_test, y_test) = mnist.load_data()\n",
    "# x_train = x_train.reshape(-1, 28, 28, 1).astype(\"float32\") / 255.0\n",
    "# x_test = x_test.reshape(-1, 28, 28, 1).astype(\"float32\") / 255.0\n",
    "\n",
    "# model = keras.models.load_model(\"pretrained\")\n",
    "\n",
    "# # Freeze all model layer weights\n",
    "# model.trainable = False\n",
    "\n",
    "# # Can also set trainable for specific layers\n",
    "# for layer in model.layers:\n",
    "#     # assert should be true because of one-liner above\n",
    "#     assert layer.trainable == False\n",
    "#     layer.trainable = False\n",
    "\n",
    "# print(model.summary())  # for finding base input and output\n",
    "# base_inputs = model.layers[0].input\n",
    "# base_output = model.layers[-2].output\n",
    "# output = layers.Dense(10)(base_output)\n",
    "# new_model = keras.Model(base_inputs, output)\n",
    "\n",
    "# # This model is actually identical to model we\n",
    "# # loaded (this is just for demonstration and\n",
    "# # and not something you would do in practice).\n",
    "# print(new_model.summary())\n",
    "\n",
    "# # As usual we do compile and fit, this time on new_model\n",
    "# new_model.compile(\n",
    "#     optimizer=keras.optimizers.Adam(),\n",
    "#     loss=keras.losses.SparseCategoricalCrossentropy(from_logits=True),\n",
    "#     metrics=[\"accuracy\"],\n",
    "# )\n",
    "\n",
    "# new_model.fit(x_train, y_train, batch_size=32, epochs=3, verbose=2)\n",
    "\n",
    "# # =================================================== #\n",
    "# #                Pretrained Keras Model               #\n",
    "# # =================================================== #\n",
    "\n",
    "# # Random data for demonstration (3 examples w. 3 classes)\n",
    "# x = tf.random.normal(shape=(3, 299, 299, 3))\n",
    "# y = tf.constant([0, 1, 2])\n",
    "\n",
    "# model = keras.applications.InceptionV3(include_top=True)\n",
    "# print(model.summary())\n",
    "\n",
    "# # for input you can also do model.input,\n",
    "# # then for base_outputs you can obviously\n",
    "# # choose other than simply removing the last one :)\n",
    "# base_inputs = model.layers[0].input\n",
    "# base_outputs = model.layers[-2].output\n",
    "# classifier = layers.Dense(3)(base_outputs)\n",
    "# new_model = keras.Model(inputs=base_inputs, outputs=classifier)\n",
    "# new_model.compile(\n",
    "#     optimizer=keras.optimizers.Adam(),\n",
    "#     loss=keras.losses.SparseCategoricalCrossentropy(from_logits=True),\n",
    "#     metrics=[\"accuracy\"],\n",
    "# )\n",
    "\n",
    "# print(new_model.summary())\n",
    "# new_model.fit(x, y, epochs=15, verbose=2)\n",
    "\n",
    "# # ================================================= #\n",
    "# #                Pretrained Hub Model               #\n",
    "# # ================================================= #\n",
    "\n",
    "# # Random data for demonstration (3 examples w. 3 classes)\n",
    "# x = tf.random.normal(shape=(3, 299, 299, 3))\n",
    "# y = tf.constant([0, 1, 2])\n",
    "\n",
    "# url = \"https://tfhub.dev/google/imagenet/inception_v3/feature_vector/4\"\n",
    "\n",
    "# base_model = hub.KerasLayer(url, input_shape=(299, 299, 3))\n",
    "# model = keras.Sequential(\n",
    "#     [\n",
    "#         base_model,\n",
    "#         layers.Dense(128, activation=\"relu\"),\n",
    "#         layers.Dense(64, activation=\"relu\"),\n",
    "#         layers.Dense(10),\n",
    "#     ]\n",
    "# )\n",
    "\n",
    "# model.compile(\n",
    "#     optimizer=keras.optimizers.Adam(),\n",
    "#     loss=keras.losses.SparseCategoricalCrossentropy(from_logits=True),\n",
    "#     metrics=[\"accuracy\"],\n",
    "# )\n",
    "\n",
    "# model.fit(x, y, batch_size=32, epochs=15, verbose=2)"
   ]
  },
  {
   "cell_type": "code",
   "execution_count": null,
   "metadata": {},
   "outputs": [],
   "source": []
  }
 ],
 "metadata": {
  "kernelspec": {
   "display_name": "Python 3 (ipykernel)",
   "language": "python",
   "name": "python3"
  },
  "language_info": {
   "codemirror_mode": {
    "name": "ipython",
    "version": 3
   },
   "file_extension": ".py",
   "mimetype": "text/x-python",
   "name": "python",
   "nbconvert_exporter": "python",
   "pygments_lexer": "ipython3",
   "version": "3.9.12"
  }
 },
 "nbformat": 4,
 "nbformat_minor": 4
}
